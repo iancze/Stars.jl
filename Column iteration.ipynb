{
 "metadata": {
  "language": "Julia",
  "name": "",
  "signature": "sha256:4197e0b8e254a30ad4b41cca535bfee330ac6368555d1480fc1c5f4a2e43af96"
 },
 "nbformat": 3,
 "nbformat_minor": 0,
 "worksheets": [
  {
   "cells": [
    {
     "cell_type": "markdown",
     "metadata": {},
     "source": [
      "#How to iterate over columns efficiently in Julia"
     ]
    },
    {
     "cell_type": "code",
     "collapsed": false,
     "input": [
      "a = rand(Float64, (10, 2))"
     ],
     "language": "python",
     "metadata": {},
     "outputs": [
      {
       "metadata": {},
       "output_type": "pyout",
       "prompt_number": 8,
       "text": [
        "10x2 Array{Float64,2}:\n",
        " 0.501409    0.357904\n",
        " 0.140172    0.286071\n",
        " 0.00925066  0.144245\n",
        " 0.261951    0.379663\n",
        " 0.477022    0.532791\n",
        " 0.0614553   0.317991\n",
        " 0.135642    0.397725\n",
        " 0.134943    0.46928 \n",
        " 0.192498    0.964034\n",
        " 0.880185    0.954735"
       ]
      }
     ],
     "prompt_number": 8
    },
    {
     "cell_type": "code",
     "collapsed": false,
     "input": [
      "for i in 1:size(a, 2)\n",
      "    println(a[:,i])\n",
      "end"
     ],
     "language": "python",
     "metadata": {},
     "outputs": [
      {
       "output_type": "stream",
       "stream": "stdout",
       "text": [
        "[0."
       ]
      },
      {
       "output_type": "stream",
       "stream": "stdout",
       "text": [
        "5014092147627431,0.1401724338620962,0.009250658242541787,0.26195130177634196,0.47702215880548016,0.06145534044611889,0.13564195286329972,0.1349432168295821,0.19249775198549535,0.8801846289819051]\n",
        "[0.3579042301148092,0.2860711318870359,0.14424491500366599,0.3796630112697237,0.5327911391793976,0.31799149545716854,0.3977250006389892,0.46928019080504924,0.9640342491175613,0.9547348585750945]\n"
       ]
      }
     ],
     "prompt_number": 23
    },
    {
     "cell_type": "code",
     "collapsed": false,
     "input": [
      "for b in a\n",
      "    println(b)\n",
      "end"
     ],
     "language": "python",
     "metadata": {},
     "outputs": [
      {
       "output_type": "stream",
       "stream": "stdout",
       "text": [
        "0.5014092147627431"
       ]
      },
      {
       "output_type": "stream",
       "stream": "stdout",
       "text": [
        "\n",
        "0.1401724338620962\n",
        "0.009250658242541787\n",
        "0.26195130177634196\n",
        "0.47702215880548016\n",
        "0.06145534044611889\n",
        "0.13564195286329972\n",
        "0.1349432168295821\n",
        "0.19249775198549535\n",
        "0.8801846289819051\n",
        "0.3579042301148092\n",
        "0.2860711318870359\n",
        "0.14424491500366599\n",
        "0.3796630112697237\n",
        "0.5327911391793976\n",
        "0.31799149545716854\n",
        "0.3977250006389892\n",
        "0.46928019080504924\n",
        "0.9640342491175613\n",
        "0.9547348585750945\n"
       ]
      }
     ],
     "prompt_number": 11
    },
    {
     "cell_type": "code",
     "collapsed": false,
     "input": [],
     "language": "python",
     "metadata": {},
     "outputs": []
    }
   ],
   "metadata": {}
  }
 ]
}