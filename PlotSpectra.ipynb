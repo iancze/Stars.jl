{
 "metadata": {
  "language": "Julia",
  "name": "",
  "signature": "sha256:523581b5e6644516d9cc3553b479b3db041cd41573eb6ca103659cbbc4ca56b1"
 },
 "nbformat": 3,
 "nbformat_minor": 0,
 "worksheets": [
  {
   "cells": [
    {
     "cell_type": "code",
     "collapsed": false,
     "input": [
      "using spec_io\n",
      "using HDF5\n",
      "using InterpSpec"
     ],
     "language": "python",
     "metadata": {},
     "outputs": [
      {
       "output_type": "stream",
       "stream": "stdout",
       "text": [
        "loaded grid\n"
       ]
      },
      {
       "output_type": "stream",
       "stream": "stdout",
       "text": [
        "These parameters are stored in this grid"
       ]
      },
      {
       "output_type": "stream",
       "stream": "stdout",
       "text": [
        "\n",
        "{5600,5700,5800,5900,6000,6100,6200,6300,6400,6500,6600}\n",
        "{2"
       ]
      },
      {
       "output_type": "stream",
       "stream": "stdout",
       "text": [
        ".5,3.0,3.5,4.0,4.5,5.0,5.5,6.0}\n",
        "{-1.5,-1.0,-0.5,0.0,0.5,1.0}\n",
        "Size and strides\n",
        "(11,8,6,216631)\n",
        "(1,11,88,528)\n",
        "(11,8,6)(1,11,88)\n",
        "216631\n",
        "\n",
        "Will interpolate over "
       ]
      },
      {
       "output_type": "stream",
       "stream": "stdout",
       "text": [
        " 5600 1.0 5700 2.0 5800 3.0 5900 4.0 6000 5.0 6100 6.0 6200 7.0 6300 7.999999999999999 6400 9.0 6500 10.0 6600 11.0\n",
        "Will interpolate over "
       ]
      },
      {
       "output_type": "stream",
       "stream": "stdout",
       "text": [
        " 2.5 1.0 3.0 2.0 3.5 3.0 4.0 4.0 4.5 5.0 5.0 6.0 5.5 7.0 6.0 8.0\n",
        "Will interpolate over  -1.5 1.0 -1.0 2.0 -0.5 3.0000000000000004 0.0 3.9999999999999996 0.5 5.000000000000001 1.0 6.0completed interp_invert!"
       ]
      },
      {
       "output_type": "stream",
       "stream": "stdout",
       "text": [
        "\n",
        "InterpGridCoefs done\n"
       ]
      }
     ],
     "prompt_number": 1
    },
    {
     "cell_type": "code",
     "collapsed": false,
     "input": [
      "fid = h5open(\"libraries/PHOENIX_F_julia_hires.hdf5\", \"r\")\n",
      "\n",
      "(temps, loggs, Zs), grid = get_grid(fid)\n",
      "println(\"loaded grid\")"
     ],
     "language": "python",
     "metadata": {},
     "outputs": [
      {
       "output_type": "stream",
       "stream": "stdout",
       "text": [
        "loaded grid\n"
       ]
      }
     ],
     "prompt_number": 3
    },
    {
     "cell_type": "code",
     "collapsed": false,
     "input": [
      "using PyPlot"
     ],
     "language": "python",
     "metadata": {},
     "outputs": [
      {
       "output_type": "stream",
       "stream": "stderr",
       "text": [
        "INFO: Loading help data...\n"
       ]
      }
     ],
     "prompt_number": 2
    },
    {
     "cell_type": "code",
     "collapsed": false,
     "input": [
      "for temp in 5600:10:6600\n",
      "    plot(temp, interp_spec(temp, 4.0, -0.5)[4000], \"b.\")\n",
      "end\n",
      "\n",
      "temps = [temp for temp in 5600:100:6600]\n",
      "for i=1:11\n",
      "    plot(temps[i], rawgrid[i, 4, 3, 4000], \"ko\")\n",
      "end\n",
      "\n",
      "title(\"pixel 4000, Quadratic\")\n",
      "xlabel(\"temperature\")\n",
      "ylabel(\"flux\")\n",
      "\n",
      "savefig(\"temp_4000_quad.png\")\n",
      "\n"
     ],
     "language": "python",
     "metadata": {},
     "outputs": [
      {
       "output_type": "stream",
       "stream": "stdout",
       "text": [
        "Setting position to"
       ]
      },
      {
       "output_type": "stream",
       "stream": "stdout",
       "text": [
        "[1.0,4.0,3.0000000000000004]\n",
        "Setting position to"
       ]
      },
      {
       "output_type": "stream",
       "stream": "stdout",
       "text": [
        "[1.1,4.0,3.0000000000000004]\n",
        "Setting position to"
       ]
      },
      {
       "output_type": "stream",
       "stream": "stdout",
       "text": [
        "[1.2,4.0,3.0000000000000004]\n",
        "Setting position to"
       ]
      },
      {
       "output_type": "stream",
       "stream": "stdout",
       "text": [
        "[1.3,4.0,3.0000000000000004]\n",
        "Setting position to"
       ]
      },
      {
       "output_type": "stream",
       "stream": "stdout",
       "text": [
        "[1.4,4.0,3.0000000000000004]\n",
        "Setting position to"
       ]
      },
      {
       "output_type": "stream",
       "stream": "stdout",
       "text": [
        "[1.5,4.0,3.0000000000000004]\n",
        "Setting position to"
       ]
      },
      {
       "output_type": "stream",
       "stream": "stdout",
       "text": [
        "[1.6,4.0,3.0000000000000004]\n",
        "Setting position to"
       ]
      },
      {
       "output_type": "stream",
       "stream": "stdout",
       "text": [
        "[1.7,4.0,3.0000000000000004]\n",
        "Setting position to"
       ]
      },
      {
       "output_type": "stream",
       "stream": "stdout",
       "text": [
        "[1.8,4.0,3.0000000000000004]\n",
        "Setting position to"
       ]
      },
      {
       "output_type": "stream",
       "stream": "stdout",
       "text": [
        "[1.9,4.0,3.0000000000000004]\n",
        "Setting position to"
       ]
      },
      {
       "output_type": "stream",
       "stream": "stdout",
       "text": [
        "[2.0,4.0,3.0000000000000004]\n",
        "Setting position to"
       ]
      },
      {
       "output_type": "stream",
       "stream": "stdout",
       "text": [
        "[2.1,4.0,3.0000000000000004]\n",
        "Setting position to"
       ]
      },
      {
       "output_type": "stream",
       "stream": "stdout",
       "text": [
        "[2.2,4.0,3.0000000000000004]\n",
        "Setting position to"
       ]
      },
      {
       "output_type": "stream",
       "stream": "stdout",
       "text": [
        "[2.3,4.0,3.0000000000000004]\n",
        "Setting position to"
       ]
      },
      {
       "output_type": "stream",
       "stream": "stdout",
       "text": [
        "[2.4,4.0,3.0000000000000004]\n",
        "Setting position to"
       ]
      },
      {
       "output_type": "stream",
       "stream": "stdout",
       "text": [
        "[2.5,4.0,3.0000000000000004]\n",
        "Setting position to"
       ]
      },
      {
       "output_type": "stream",
       "stream": "stdout",
       "text": [
        "[2.6,4.0,3.0000000000000004]\n",
        "Setting position to"
       ]
      },
      {
       "output_type": "stream",
       "stream": "stdout",
       "text": [
        "[2.7,4.0,3.0000000000000004]\n",
        "Setting position to"
       ]
      },
      {
       "output_type": "stream",
       "stream": "stdout",
       "text": [
        "[2.8,4.0,3.0000000000000004]\n",
        "Setting position to"
       ]
      },
      {
       "output_type": "stream",
       "stream": "stdout",
       "text": [
        "[2.9,4.0,3.0000000000000004]\n",
        "Setting position to"
       ]
      },
      {
       "output_type": "stream",
       "stream": "stdout",
       "text": [
        "[3.0,4.0,3.0000000000000004]\n",
        "Setting position to"
       ]
      },
      {
       "output_type": "stream",
       "stream": "stdout",
       "text": [
        "[3.1,4.0,3.0000000000000004]\n",
        "Setting position to"
       ]
      },
      {
       "output_type": "stream",
       "stream": "stdout",
       "text": [
        "[3.2,4.0,3.0000000000000004]\n",
        "Setting position to"
       ]
      },
      {
       "output_type": "stream",
       "stream": "stdout",
       "text": [
        "[3.3,4.0,3.0000000000000004]\n",
        "Setting position to"
       ]
      },
      {
       "output_type": "stream",
       "stream": "stdout",
       "text": [
        "[3.4,4.0,3.0000000000000004]\n",
        "Setting position to"
       ]
      },
      {
       "output_type": "stream",
       "stream": "stdout",
       "text": [
        "[3.5,4.0,3.0000000000000004]\n",
        "Setting position to"
       ]
      },
      {
       "output_type": "stream",
       "stream": "stdout",
       "text": [
        "[3.6,4.0,3.0000000000000004]\n",
        "Setting position to"
       ]
      },
      {
       "output_type": "stream",
       "stream": "stdout",
       "text": [
        "[3.7,4.0,3.0000000000000004]\n",
        "Setting position to"
       ]
      },
      {
       "output_type": "stream",
       "stream": "stdout",
       "text": [
        "[3.8,4.0,3.0000000000000004]\n",
        "Setting position to"
       ]
      },
      {
       "output_type": "stream",
       "stream": "stdout",
       "text": [
        "[3.9,4.0,3.0000000000000004]\n",
        "Setting position to"
       ]
      },
      {
       "output_type": "stream",
       "stream": "stdout",
       "text": [
        "[4.0,4.0,3.0000000000000004]\n",
        "Setting position to"
       ]
      },
      {
       "output_type": "stream",
       "stream": "stdout",
       "text": [
        "[4.1,4.0,3.0000000000000004]\n",
        "Setting position to"
       ]
      },
      {
       "output_type": "stream",
       "stream": "stdout",
       "text": [
        "[4.2,4.0,3.0000000000000004]\n",
        "Setting position to"
       ]
      },
      {
       "output_type": "stream",
       "stream": "stdout",
       "text": [
        "[4.3,4.0,3.0000000000000004]\n",
        "Setting position to"
       ]
      },
      {
       "output_type": "stream",
       "stream": "stdout",
       "text": [
        "[4.4,4.0,3.0000000000000004]\n",
        "Setting position to"
       ]
      },
      {
       "output_type": "stream",
       "stream": "stdout",
       "text": [
        "[4.5,4.0,3.0000000000000004]\n",
        "Setting position to"
       ]
      },
      {
       "output_type": "stream",
       "stream": "stdout",
       "text": [
        "[4.6,4.0,3.0000000000000004]\n",
        "Setting position to"
       ]
      },
      {
       "output_type": "stream",
       "stream": "stdout",
       "text": [
        "[4.7,4.0,3.0000000000000004]\n",
        "Setting position to"
       ]
      },
      {
       "output_type": "stream",
       "stream": "stdout",
       "text": [
        "[4.8,4.0,3.0000000000000004]\n",
        "Setting position to"
       ]
      },
      {
       "output_type": "stream",
       "stream": "stdout",
       "text": [
        "[4.9,4.0,3.0000000000000004]\n",
        "Setting position to"
       ]
      },
      {
       "output_type": "stream",
       "stream": "stdout",
       "text": [
        "[5.0,4.0,3.0000000000000004]\n",
        "Setting position to"
       ]
      },
      {
       "output_type": "stream",
       "stream": "stdout",
       "text": [
        "[5.1,4.0,3.0000000000000004]\n",
        "Setting position to"
       ]
      },
      {
       "output_type": "stream",
       "stream": "stdout",
       "text": [
        "[5.2,4.0,3.0000000000000004]\n",
        "Setting position to"
       ]
      },
      {
       "output_type": "stream",
       "stream": "stdout",
       "text": [
        "[5.3,4.0,3.0000000000000004]\n",
        "Setting position to"
       ]
      },
      {
       "output_type": "stream",
       "stream": "stdout",
       "text": [
        "[5.4,4.0,3.0000000000000004]\n",
        "Setting position to"
       ]
      },
      {
       "output_type": "stream",
       "stream": "stdout",
       "text": [
        "[5.5,4.0,3.0000000000000004]\n",
        "Setting position to"
       ]
      },
      {
       "output_type": "stream",
       "stream": "stdout",
       "text": [
        "[5.6,4.0,3.0000000000000004]\n",
        "Setting position to"
       ]
      },
      {
       "output_type": "stream",
       "stream": "stdout",
       "text": [
        "[5.7,4.0,3.0000000000000004]\n",
        "Setting position to"
       ]
      },
      {
       "output_type": "stream",
       "stream": "stdout",
       "text": [
        "[5.8,4.0,3.0000000000000004]\n",
        "Setting position to"
       ]
      },
      {
       "output_type": "stream",
       "stream": "stdout",
       "text": [
        "[5.9,4.0,3.0000000000000004]\n",
        "Setting position to"
       ]
      },
      {
       "output_type": "stream",
       "stream": "stdout",
       "text": [
        "[6.0,4.0,3.0000000000000004]\n",
        "Setting position to"
       ]
      },
      {
       "output_type": "stream",
       "stream": "stdout",
       "text": [
        "[6.1,4.0,3.0000000000000004]\n",
        "Setting position to"
       ]
      },
      {
       "output_type": "stream",
       "stream": "stdout",
       "text": [
        "[6.2,4.0,3.0000000000000004]\n",
        "Setting position to"
       ]
      },
      {
       "output_type": "stream",
       "stream": "stdout",
       "text": [
        "[6.3,4.0,3.0000000000000004]\n",
        "Setting position to"
       ]
      },
      {
       "output_type": "stream",
       "stream": "stdout",
       "text": [
        "[6.4,4.0,3.0000000000000004]\n",
        "Setting position to"
       ]
      },
      {
       "output_type": "stream",
       "stream": "stdout",
       "text": [
        "[6.5,4.0,3.0000000000000004]\n",
        "Setting position to"
       ]
      },
      {
       "output_type": "stream",
       "stream": "stdout",
       "text": [
        "[6.6,4.0,3.0000000000000004]\n",
        "Setting position to"
       ]
      },
      {
       "output_type": "stream",
       "stream": "stdout",
       "text": [
        "[6.7,4.0,3.0000000000000004]\n",
        "Setting position to"
       ]
      },
      {
       "output_type": "stream",
       "stream": "stdout",
       "text": [
        "[6.8,4.0,3.0000000000000004]\n",
        "Setting position to"
       ]
      },
      {
       "output_type": "stream",
       "stream": "stdout",
       "text": [
        "[6.9,4.0,3.0000000000000004]\n",
        "Setting position to"
       ]
      },
      {
       "output_type": "stream",
       "stream": "stdout",
       "text": [
        "[7.0,4.0,3.0000000000000004]\n",
        "Setting position to"
       ]
      },
      {
       "output_type": "stream",
       "stream": "stdout",
       "text": [
        "[7.1,4.0,3.0000000000000004]\n",
        "Setting position to"
       ]
      },
      {
       "output_type": "stream",
       "stream": "stdout",
       "text": [
        "[7.2,4.0,3.0000000000000004]\n",
        "Setting position to"
       ]
      },
      {
       "output_type": "stream",
       "stream": "stdout",
       "text": [
        "[7.299999999999999,4.0,3.0000000000000004]\n",
        "Setting position to"
       ]
      },
      {
       "output_type": "stream",
       "stream": "stdout",
       "text": [
        "[7.4,4.0,3.0000000000000004]\n",
        "Setting position to"
       ]
      },
      {
       "output_type": "stream",
       "stream": "stdout",
       "text": [
        "[7.5,4.0,3.0000000000000004]\n",
        "Setting position to"
       ]
      },
      {
       "output_type": "stream",
       "stream": "stdout",
       "text": [
        "[7.599999999999999,4.0,3.0000000000000004]\n",
        "Setting position to"
       ]
      },
      {
       "output_type": "stream",
       "stream": "stdout",
       "text": [
        "[7.699999999999999,4.0,3.0000000000000004]\n",
        "Setting position to"
       ]
      },
      {
       "output_type": "stream",
       "stream": "stdout",
       "text": [
        "[7.799999999999999,4.0,3.0000000000000004]\n",
        "Setting position to"
       ]
      },
      {
       "output_type": "stream",
       "stream": "stdout",
       "text": [
        "[7.8999999999999995,4.0,3.0000000000000004]\n",
        "Setting position to"
       ]
      },
      {
       "output_type": "stream",
       "stream": "stdout",
       "text": [
        "[7.999999999999999,4.0,3.0000000000000004]\n",
        "Setting position to"
       ]
      },
      {
       "output_type": "stream",
       "stream": "stdout",
       "text": [
        "[8.099999999999998,4.0,3.0000000000000004]\n",
        "Setting position to"
       ]
      },
      {
       "output_type": "stream",
       "stream": "stdout",
       "text": [
        "[8.2,4.0,3.0000000000000004]\n",
        "Setting position to"
       ]
      },
      {
       "output_type": "stream",
       "stream": "stdout",
       "text": [
        "[8.3,4.0,3.0000000000000004]\n",
        "Setting position to"
       ]
      },
      {
       "output_type": "stream",
       "stream": "stdout",
       "text": [
        "[8.399999999999999,4.0,3.0000000000000004]\n",
        "Setting position to"
       ]
      },
      {
       "output_type": "stream",
       "stream": "stdout",
       "text": [
        "[8.5,4.0,3.0000000000000004]\n",
        "Setting position to"
       ]
      },
      {
       "output_type": "stream",
       "stream": "stdout",
       "text": [
        "[8.6,4.0,3.0000000000000004]\n",
        "Setting position to"
       ]
      },
      {
       "output_type": "stream",
       "stream": "stdout",
       "text": [
        "[8.7,4.0,3.0000000000000004]\n",
        "Setting position to"
       ]
      },
      {
       "output_type": "stream",
       "stream": "stdout",
       "text": [
        "[8.8,4.0,3.0000000000000004]\n",
        "Setting position to"
       ]
      },
      {
       "output_type": "stream",
       "stream": "stdout",
       "text": [
        "[8.9,4.0,3.0000000000000004]\n",
        "Setting position to"
       ]
      },
      {
       "output_type": "stream",
       "stream": "stdout",
       "text": [
        "[9.0,4.0,3.0000000000000004]\n",
        "Setting position to"
       ]
      },
      {
       "output_type": "stream",
       "stream": "stdout",
       "text": [
        "[9.1,4.0,3.0000000000000004]\n",
        "Setting position to"
       ]
      },
      {
       "output_type": "stream",
       "stream": "stdout",
       "text": [
        "[9.2,4.0,3.0000000000000004]\n",
        "Setting position to"
       ]
      },
      {
       "output_type": "stream",
       "stream": "stdout",
       "text": [
        "[9.3,4.0,3.0000000000000004]\n",
        "Setting position to"
       ]
      },
      {
       "output_type": "stream",
       "stream": "stdout",
       "text": [
        "[9.4,4.0,3.0000000000000004]\n",
        "Setting position to"
       ]
      },
      {
       "output_type": "stream",
       "stream": "stdout",
       "text": [
        "[9.5,4.0,3.0000000000000004]\n",
        "Setting position to"
       ]
      },
      {
       "output_type": "stream",
       "stream": "stdout",
       "text": [
        "[9.6,4.0,3.0000000000000004]\n",
        "Setting position to"
       ]
      },
      {
       "output_type": "stream",
       "stream": "stdout",
       "text": [
        "[9.7,4.0,3.0000000000000004]\n",
        "Setting position to"
       ]
      },
      {
       "output_type": "stream",
       "stream": "stdout",
       "text": [
        "[9.8,4.0,3.0000000000000004]\n",
        "Setting position to"
       ]
      },
      {
       "output_type": "stream",
       "stream": "stdout",
       "text": [
        "[9.9,4.0,3.0000000000000004]\n",
        "Setting position to"
       ]
      },
      {
       "output_type": "stream",
       "stream": "stdout",
       "text": [
        "[10.0,4.0,3.0000000000000004]\n",
        "Setting position to"
       ]
      },
      {
       "output_type": "stream",
       "stream": "stdout",
       "text": [
        "[10.1,4.0,3.0000000000000004]\n",
        "Setting position to"
       ]
      },
      {
       "output_type": "stream",
       "stream": "stdout",
       "text": [
        "[10.2,4.0,3.0000000000000004]\n",
        "Setting position to"
       ]
      },
      {
       "output_type": "stream",
       "stream": "stdout",
       "text": [
        "[10.3,4.0,3.0000000000000004]\n",
        "Setting position to"
       ]
      },
      {
       "output_type": "stream",
       "stream": "stdout",
       "text": [
        "[10.4,4.0,3.0000000000000004]\n",
        "Setting position to"
       ]
      },
      {
       "output_type": "stream",
       "stream": "stdout",
       "text": [
        "[10.5,4.0,3.0000000000000004]\n",
        "Setting position to"
       ]
      },
      {
       "output_type": "stream",
       "stream": "stdout",
       "text": [
        "[10.6,4.0,3.0000000000000004]\n",
        "Setting position to"
       ]
      },
      {
       "output_type": "stream",
       "stream": "stdout",
       "text": [
        "[10.7,4.0,3.0000000000000004]\n",
        "Setting position to"
       ]
      },
      {
       "output_type": "stream",
       "stream": "stdout",
       "text": [
        "[10.8,4.0,3.0000000000000004]\n",
        "Setting position to"
       ]
      },
      {
       "output_type": "stream",
       "stream": "stdout",
       "text": [
        "[10.9,4.0,3.0000000000000004]\n",
        "Setting position to"
       ]
      },
      {
       "output_type": "stream",
       "stream": "stdout",
       "text": [
        "[11.0,4.0,3.0000000000000004]\n"
       ]
      },
      {
       "metadata": {},
       "output_type": "display_data",
       "png": "[encoded data removed]",
       "text": [
        "Figure(PyObject <matplotlib.figure.Figure object at 0x7f0b71c090f0>)"
       ]
      }
     ],
     "prompt_number": 3
    },
    {
     "cell_type": "code",
     "collapsed": false,
     "input": [
      "for z in -1.:0.1:0.5  \n",
      "    plot(z, interp_spec(6000, 4.0, z)[4000],  \"b.\")\n",
      "end\n",
      "\n",
      "zs = [z for z in -1.5:0.5:1.0]\n",
      "for i=1:6\n",
      "    plot(zs[i], rawgrid[5, 4, i, 4000], \"ko\")\n",
      "end\n",
      "\n",
      "title(\"pixel 1\")\n",
      "xlabel(\"Z\")\n",
      "ylabel(\"flux\")\n",
      "\n",
      "savefig(\"Z4000.png\")\n",
      "\n"
     ],
     "language": "python",
     "metadata": {},
     "outputs": [
      {
       "output_type": "stream",
       "stream": "stdout",
       "text": [
        "Setting position to"
       ]
      },
      {
       "output_type": "stream",
       "stream": "stdout",
       "text": [
        "[5.0,4.0,2.0]\n",
        "Setting position to"
       ]
      },
      {
       "output_type": "stream",
       "stream": "stdout",
       "text": [
        "[5.0,4.0,2.2]\n",
        "Setting position to"
       ]
      },
      {
       "output_type": "stream",
       "stream": "stdout",
       "text": [
        "[5.0,4.0,2.4000000000000004]\n",
        "Setting position to"
       ]
      },
      {
       "output_type": "stream",
       "stream": "stdout",
       "text": [
        "[5.0,4.0,2.6000000000000005]\n",
        "Setting position to"
       ]
      },
      {
       "output_type": "stream",
       "stream": "stdout",
       "text": [
        "[5.0,4.0,2.8000000000000003]\n",
        "Setting position to"
       ]
      },
      {
       "output_type": "stream",
       "stream": "stdout",
       "text": [
        "[5.0,4.0,3.0000000000000004]\n",
        "Setting position to"
       ]
      },
      {
       "output_type": "stream",
       "stream": "stdout",
       "text": [
        "[5.0,4.0,3.2000000000000006]\n",
        "Setting position to"
       ]
      },
      {
       "output_type": "stream",
       "stream": "stdout",
       "text": [
        "[5.0,4.0,3.4]\n",
        "Setting position to"
       ]
      },
      {
       "output_type": "stream",
       "stream": "stdout",
       "text": [
        "[5.0,4.0,3.5999999999999996]\n",
        "Setting position to"
       ]
      },
      {
       "output_type": "stream",
       "stream": "stdout",
       "text": [
        "[5.0,4.0,3.7999999999999994]\n",
        "Setting position to"
       ]
      },
      {
       "output_type": "stream",
       "stream": "stdout",
       "text": [
        "[5.0,4.0,3.9999999999999996]\n",
        "Setting position to"
       ]
      },
      {
       "output_type": "stream",
       "stream": "stdout",
       "text": [
        "[5.0,4.0,4.2]\n",
        "Setting position to"
       ]
      },
      {
       "output_type": "stream",
       "stream": "stdout",
       "text": [
        "[5.0,4.0,4.4]\n",
        "Setting position to"
       ]
      },
      {
       "output_type": "stream",
       "stream": "stdout",
       "text": [
        "[5.0,4.0,4.6]\n",
        "Setting position to"
       ]
      },
      {
       "output_type": "stream",
       "stream": "stdout",
       "text": [
        "[5.0,4.0,4.800000000000001]\n",
        "Setting position to"
       ]
      },
      {
       "output_type": "stream",
       "stream": "stdout",
       "text": [
        "[5.0,4.0,5.000000000000001]\n"
       ]
      },
      {
       "metadata": {},
       "output_type": "display_data",
       "png": "[encoded data removed]",
       "text": [
        "Figure(PyObject <matplotlib.figure.Figure object at 0x7f99e2a36f60>)"
       ]
      }
     ],
     "prompt_number": 5
    },
    {
     "cell_type": "code",
     "collapsed": false,
     "input": [
      "plt.plot(vec(grid[1, 4, 3, 1:50]), \"bo\")\n",
      "plt.plot(vec(grid[2, 4, 3, 1:50]), \"go\")\n",
      "plt.plot(vec(grid[3, 4, 3, 1:50]), \"ro\")\n",
      "plt.show()\n"
     ],
     "language": "python",
     "metadata": {},
     "outputs": [
      {
       "metadata": {},
       "output_type": "display_data",
       "png": "[encoded data removed]",
       "text": [
        "Figure(PyObject <matplotlib.figure.Figure object at 0x7f2ad1a497b8>)"
       ]
      }
     ],
     "prompt_number": 7
    },
    {
     "cell_type": "code",
     "collapsed": false,
     "input": [
      "plot(interp_spec(6100, 4.0, -0.5)[3950:4050])\n",
      "plot(interp_spec(6150, 4.0, -0.5)[3950:4050])\n",
      "plot(interp_spec(6200, 4.0, -0.5)[3950:4050])"
     ],
     "language": "python",
     "metadata": {},
     "outputs": [
      {
       "output_type": "stream",
       "stream": "stdout",
       "text": [
        "Setting position to"
       ]
      },
      {
       "output_type": "stream",
       "stream": "stdout",
       "text": [
        "[6.0,4.0,3.0000000000000004]\n",
        "Setting position to"
       ]
      },
      {
       "output_type": "stream",
       "stream": "stdout",
       "text": [
        "[6.5,4.0,3.0000000000000004]\n",
        "Setting position to"
       ]
      },
      {
       "output_type": "stream",
       "stream": "stdout",
       "text": [
        "[7.0,4.0,3.0000000000000004]\n"
       ]
      },
      {
       "metadata": {},
       "output_type": "display_data",
       "png": "[encoded data removed]",
       "text": [
        "Figure(PyObject <matplotlib.figure.Figure object at 0x7f9fd8e95550>)"
       ]
      },
      {
       "metadata": {},
       "output_type": "pyout",
       "prompt_number": 7,
       "text": [
        "1-element Array{Any,1}:\n",
        " PyObject <matplotlib.lines.Line2D object at 0x7f9fd8db15c0>"
       ]
      }
     ],
     "prompt_number": 7
    }
   ],
   "metadata": {}
  }
 ]
}